{
 "cells": [
  {
   "cell_type": "markdown",
   "id": "9c75ebda",
   "metadata": {},
   "source": [
    "# Market Basket Analysis on Online Retail Data\n",
    "\n",
    "## Feature Engineering\n",
    "\n",
    "### 1. Overview:\n",
    "- Market Basket Analysis is one of the key techniques used by large retailers to uncover associations between items. \n",
    "- It works by looking for combinations of items that occur together frequently in transactions. \n",
    "- To put it another way, it allows retailers to identify relationships between the items that people buy. \n",
    "- Association Rules are widely used to analyze retail basket or transaction data, and are intended to identify strong rules discovered in transaction data using measures of interestingness, based on the concept of strong rules."
   ]
  },
  {
   "cell_type": "markdown",
   "id": "7f56cc2b",
   "metadata": {},
   "source": [
    "### 2. Data Loading and Sanitation Checks:"
   ]
  },
  {
   "cell_type": "code",
   "execution_count": 1,
   "id": "37deced0",
   "metadata": {},
   "outputs": [],
   "source": [
    "# Importing libraries\n",
    "import pandas as pd\n",
    "import numpy as np\n",
    "import matplotlib.pyplot as plt\n",
    "import seaborn as sns\n",
    "import calendar\n",
    "import datetime as dt\n",
    "\n",
    "# Runtime Configuration Parameters for Matplotlib\n",
    "plt.rcParams['font.family'] = 'Verdana'\n",
    "plt.style.use('ggplot')\n",
    "\n",
    "import warnings\n",
    "warnings.filterwarnings(\"ignore\", category=FutureWarning)"
   ]
  },
  {
   "cell_type": "code",
   "execution_count": 2,
   "id": "8a16aa86",
   "metadata": {},
   "outputs": [
    {
     "data": {
      "text/html": [
       "<div>\n",
       "<style scoped>\n",
       "    .dataframe tbody tr th:only-of-type {\n",
       "        vertical-align: middle;\n",
       "    }\n",
       "\n",
       "    .dataframe tbody tr th {\n",
       "        vertical-align: top;\n",
       "    }\n",
       "\n",
       "    .dataframe thead th {\n",
       "        text-align: right;\n",
       "    }\n",
       "</style>\n",
       "<table border=\"1\" class=\"dataframe\">\n",
       "  <thead>\n",
       "    <tr style=\"text-align: right;\">\n",
       "      <th></th>\n",
       "      <th>InvoiceNo</th>\n",
       "      <th>StockCode</th>\n",
       "      <th>Description</th>\n",
       "      <th>Quantity</th>\n",
       "      <th>InvoiceDate</th>\n",
       "      <th>UnitPrice</th>\n",
       "      <th>CustomerID</th>\n",
       "      <th>Country</th>\n",
       "    </tr>\n",
       "  </thead>\n",
       "  <tbody>\n",
       "    <tr>\n",
       "      <th>0</th>\n",
       "      <td>536365</td>\n",
       "      <td>85123A</td>\n",
       "      <td>WHITE HANGING HEART T-LIGHT HOLDER</td>\n",
       "      <td>6</td>\n",
       "      <td>12/1/2010 8:26</td>\n",
       "      <td>2.55</td>\n",
       "      <td>17850.0</td>\n",
       "      <td>United Kingdom</td>\n",
       "    </tr>\n",
       "    <tr>\n",
       "      <th>1</th>\n",
       "      <td>536365</td>\n",
       "      <td>71053</td>\n",
       "      <td>WHITE METAL LANTERN</td>\n",
       "      <td>6</td>\n",
       "      <td>12/1/2010 8:26</td>\n",
       "      <td>3.39</td>\n",
       "      <td>17850.0</td>\n",
       "      <td>United Kingdom</td>\n",
       "    </tr>\n",
       "    <tr>\n",
       "      <th>2</th>\n",
       "      <td>536365</td>\n",
       "      <td>84406B</td>\n",
       "      <td>CREAM CUPID HEARTS COAT HANGER</td>\n",
       "      <td>8</td>\n",
       "      <td>12/1/2010 8:26</td>\n",
       "      <td>2.75</td>\n",
       "      <td>17850.0</td>\n",
       "      <td>United Kingdom</td>\n",
       "    </tr>\n",
       "    <tr>\n",
       "      <th>3</th>\n",
       "      <td>536365</td>\n",
       "      <td>84029G</td>\n",
       "      <td>KNITTED UNION FLAG HOT WATER BOTTLE</td>\n",
       "      <td>6</td>\n",
       "      <td>12/1/2010 8:26</td>\n",
       "      <td>3.39</td>\n",
       "      <td>17850.0</td>\n",
       "      <td>United Kingdom</td>\n",
       "    </tr>\n",
       "    <tr>\n",
       "      <th>4</th>\n",
       "      <td>536365</td>\n",
       "      <td>84029E</td>\n",
       "      <td>RED WOOLLY HOTTIE WHITE HEART.</td>\n",
       "      <td>6</td>\n",
       "      <td>12/1/2010 8:26</td>\n",
       "      <td>3.39</td>\n",
       "      <td>17850.0</td>\n",
       "      <td>United Kingdom</td>\n",
       "    </tr>\n",
       "  </tbody>\n",
       "</table>\n",
       "</div>"
      ],
      "text/plain": [
       "  InvoiceNo StockCode                          Description  Quantity  \\\n",
       "0    536365    85123A   WHITE HANGING HEART T-LIGHT HOLDER         6   \n",
       "1    536365     71053                  WHITE METAL LANTERN         6   \n",
       "2    536365    84406B       CREAM CUPID HEARTS COAT HANGER         8   \n",
       "3    536365    84029G  KNITTED UNION FLAG HOT WATER BOTTLE         6   \n",
       "4    536365    84029E       RED WOOLLY HOTTIE WHITE HEART.         6   \n",
       "\n",
       "      InvoiceDate  UnitPrice  CustomerID         Country  \n",
       "0  12/1/2010 8:26       2.55     17850.0  United Kingdom  \n",
       "1  12/1/2010 8:26       3.39     17850.0  United Kingdom  \n",
       "2  12/1/2010 8:26       2.75     17850.0  United Kingdom  \n",
       "3  12/1/2010 8:26       3.39     17850.0  United Kingdom  \n",
       "4  12/1/2010 8:26       3.39     17850.0  United Kingdom  "
      ]
     },
     "execution_count": 2,
     "metadata": {},
     "output_type": "execute_result"
    }
   ],
   "source": [
    "# Read data\n",
    "retail = pd.read_csv('RetailData.csv')\n",
    "retail.head()"
   ]
  },
  {
   "cell_type": "code",
   "execution_count": 3,
   "id": "86e0b081",
   "metadata": {},
   "outputs": [
    {
     "name": "stdout",
     "output_type": "stream",
     "text": [
      "<class 'pandas.core.frame.DataFrame'>\n",
      "RangeIndex: 541909 entries, 0 to 541908\n",
      "Data columns (total 8 columns):\n",
      " #   Column       Non-Null Count   Dtype  \n",
      "---  ------       --------------   -----  \n",
      " 0   InvoiceNo    541909 non-null  object \n",
      " 1   StockCode    541909 non-null  object \n",
      " 2   Description  540455 non-null  object \n",
      " 3   Quantity     541909 non-null  int64  \n",
      " 4   InvoiceDate  541909 non-null  object \n",
      " 5   UnitPrice    541909 non-null  float64\n",
      " 6   CustomerID   406829 non-null  float64\n",
      " 7   Country      541909 non-null  object \n",
      "dtypes: float64(2), int64(1), object(5)\n",
      "memory usage: 33.1+ MB\n"
     ]
    }
   ],
   "source": [
    "retail.info()"
   ]
  },
  {
   "cell_type": "markdown",
   "id": "858f0354",
   "metadata": {},
   "source": [
    "### 2.1 About the data\n",
    "**1. InvoiceNo:** Invoice number. Nominal, a 6-digit integral number uniquely assigned to each transaction. If this code starts with letter 'c', it indicates a cancellation.\n",
    "\n",
    "**2. StockCode:** Product (item) code. Nominal, a 5-digit integral number uniquely assigned to each distinct product.\n",
    "\n",
    "**3. Description:** Product (item) name. Nominal.\n",
    "\n",
    "**4. Quantity:** The quantities of each product (item) per transaction. Numeric.\n",
    "\n",
    "**5. InvoiceDate:** Invice Date and time. Numeric, the day and time when each transaction was generated.\n",
    "\n",
    "**6. UnitPrice:** Unit price. Numeric, Product price per unit in sterling.\n",
    "\n",
    "**7. CustomerID:** Customer number. Nominal, a 5-digit integral number uniquely assigned to each customer.\n",
    "\n",
    "**8. Country:** Country name. Nominal, the name of the country where each customer resides."
   ]
  },
  {
   "cell_type": "code",
   "execution_count": 4,
   "id": "3cea8751",
   "metadata": {},
   "outputs": [
    {
     "name": "stdout",
     "output_type": "stream",
     "text": [
      "Number of observations in the dataset:  541909\n",
      "Number of columns:  8\n"
     ]
    }
   ],
   "source": [
    "print('Number of observations in the dataset: ', retail.shape[0])\n",
    "print('Number of columns: ', retail.shape[1])"
   ]
  },
  {
   "cell_type": "markdown",
   "id": "1895309d",
   "metadata": {},
   "source": [
    "#### 2.1.1 Missing values"
   ]
  },
  {
   "cell_type": "code",
   "execution_count": 5,
   "id": "7f49dafd",
   "metadata": {},
   "outputs": [
    {
     "data": {
      "text/html": [
       "<div>\n",
       "<style scoped>\n",
       "    .dataframe tbody tr th:only-of-type {\n",
       "        vertical-align: middle;\n",
       "    }\n",
       "\n",
       "    .dataframe tbody tr th {\n",
       "        vertical-align: top;\n",
       "    }\n",
       "\n",
       "    .dataframe thead th {\n",
       "        text-align: right;\n",
       "    }\n",
       "</style>\n",
       "<table border=\"1\" class=\"dataframe\">\n",
       "  <thead>\n",
       "    <tr style=\"text-align: right;\">\n",
       "      <th></th>\n",
       "      <th>Total missing values</th>\n",
       "      <th>Percentage missing values</th>\n",
       "    </tr>\n",
       "  </thead>\n",
       "  <tbody>\n",
       "    <tr>\n",
       "      <th>InvoiceNo</th>\n",
       "      <td>0</td>\n",
       "      <td>0.000000</td>\n",
       "    </tr>\n",
       "    <tr>\n",
       "      <th>StockCode</th>\n",
       "      <td>0</td>\n",
       "      <td>0.000000</td>\n",
       "    </tr>\n",
       "    <tr>\n",
       "      <th>Description</th>\n",
       "      <td>1454</td>\n",
       "      <td>0.002690</td>\n",
       "    </tr>\n",
       "    <tr>\n",
       "      <th>Quantity</th>\n",
       "      <td>0</td>\n",
       "      <td>0.000000</td>\n",
       "    </tr>\n",
       "    <tr>\n",
       "      <th>InvoiceDate</th>\n",
       "      <td>0</td>\n",
       "      <td>0.000000</td>\n",
       "    </tr>\n",
       "    <tr>\n",
       "      <th>UnitPrice</th>\n",
       "      <td>0</td>\n",
       "      <td>0.000000</td>\n",
       "    </tr>\n",
       "    <tr>\n",
       "      <th>CustomerID</th>\n",
       "      <td>135080</td>\n",
       "      <td>0.332031</td>\n",
       "    </tr>\n",
       "    <tr>\n",
       "      <th>Country</th>\n",
       "      <td>0</td>\n",
       "      <td>0.000000</td>\n",
       "    </tr>\n",
       "  </tbody>\n",
       "</table>\n",
       "</div>"
      ],
      "text/plain": [
       "             Total missing values  Percentage missing values\n",
       "InvoiceNo                       0                   0.000000\n",
       "StockCode                       0                   0.000000\n",
       "Description                  1454                   0.002690\n",
       "Quantity                        0                   0.000000\n",
       "InvoiceDate                     0                   0.000000\n",
       "UnitPrice                       0                   0.000000\n",
       "CustomerID                 135080                   0.332031\n",
       "Country                         0                   0.000000"
      ]
     },
     "execution_count": 5,
     "metadata": {},
     "output_type": "execute_result"
    }
   ],
   "source": [
    "def missing_values(df):\n",
    "    total_null = df.isna().sum()\n",
    "    percent_null = df.isna().sum() / df.count()\n",
    "    missing_data = pd.concat([total_null, percent_null], axis = 1, keys = ['Total missing values', 'Percentage missing values'])\n",
    "    return missing_data\n",
    "\n",
    "# Check\n",
    "missing_values(retail)"
   ]
  },
  {
   "cell_type": "markdown",
   "id": "d26d85bd",
   "metadata": {},
   "source": [
    "### 3. Feature Engineering"
   ]
  },
  {
   "cell_type": "markdown",
   "id": "bfc25ecc",
   "metadata": {},
   "source": [
    "#### 3.1 Parsing date"
   ]
  },
  {
   "cell_type": "code",
   "execution_count": 6,
   "id": "06732f89",
   "metadata": {},
   "outputs": [],
   "source": [
    "retail['InvoiceDate'] = pd.to_datetime(retail['InvoiceDate'])"
   ]
  },
  {
   "cell_type": "markdown",
   "id": "e8d47a17",
   "metadata": {},
   "source": [
    "#### 3.2 Data Cleaning"
   ]
  },
  {
   "cell_type": "markdown",
   "id": "aab933ca",
   "metadata": {},
   "source": [
    "##### 3.2.1 CustomerID"
   ]
  },
  {
   "cell_type": "code",
   "execution_count": 7,
   "id": "dfcc0d9f",
   "metadata": {},
   "outputs": [],
   "source": [
    "# Fill NA with 0\n",
    "retail['CustomerID'] = retail['CustomerID'].fillna(0)\n",
    "# Float to Int\n",
    "retail['CustomerID'] = retail['CustomerID'].astype(int)\n",
    "# Int to Str\n",
    "retail['CustomerID'] = retail['CustomerID'].astype(str)\n",
    "# Replace customers with customer_id 0 to \"Guest Customer\"\n",
    "retail['CustomerID'] = retail['CustomerID'].replace('0', 'Guest Customer')"
   ]
  },
  {
   "cell_type": "code",
   "execution_count": 8,
   "id": "a43429f7",
   "metadata": {},
   "outputs": [
    {
     "data": {
      "text/plain": [
       "Guest Customer    135080\n",
       "17841               7983\n",
       "14911               5903\n",
       "14096               5128\n",
       "12748               4642\n",
       "                   ...  \n",
       "13270                  1\n",
       "17763                  1\n",
       "17291                  1\n",
       "15668                  1\n",
       "15562                  1\n",
       "Name: CustomerID, Length: 4373, dtype: int64"
      ]
     },
     "execution_count": 8,
     "metadata": {},
     "output_type": "execute_result"
    }
   ],
   "source": [
    "retail['CustomerID'].value_counts()"
   ]
  },
  {
   "cell_type": "markdown",
   "id": "579668e8",
   "metadata": {},
   "source": [
    "##### 3.2.2 InvoiceID"
   ]
  },
  {
   "cell_type": "code",
   "execution_count": 9,
   "id": "65878d6c",
   "metadata": {},
   "outputs": [],
   "source": [
    "# Date \n",
    "retail['Date'] = retail['InvoiceDate'].dt.date\n",
    "# Time\n",
    "retail['Time'] = retail['InvoiceDate'].dt.time\n",
    "# Hour\n",
    "retail[\"Hour\"] = retail['InvoiceDate'].dt.strftime('%H')\n",
    "# Hour to Time of Day\n",
    "retail['Time of Day'] = pd.cut(retail['InvoiceDate'].dt.hour, [0,6,12,18,23], labels = ['Night','Morning','Afternoon','Evening'], include_lowest=True)\n",
    "# Month\n",
    "retail['Month'] = retail['InvoiceDate'].dt.month\n",
    "# Changing the number months to the actual name of the month \n",
    "retail['Month'] = retail['Month'].apply(lambda x: calendar.month_name[int(x)])\n",
    "# Year\n",
    "retail['Year'] = retail['InvoiceDate'].dt.year\n",
    "# Week of the Year\n",
    "retail['Week of the Year'] = retail['InvoiceDate'].dt.isocalendar().week\n",
    "# Day of Week\n",
    "retail['Day of Week'] = retail['InvoiceDate'].dt.day_name()\n",
    "# Drop NAs\n",
    "retail['InvoiceNo'] = retail['InvoiceNo'].dropna()"
   ]
  },
  {
   "cell_type": "markdown",
   "id": "82faa9b5",
   "metadata": {},
   "source": [
    "##### Timeframe on data"
   ]
  },
  {
   "cell_type": "code",
   "execution_count": 10,
   "id": "940ab2ae",
   "metadata": {},
   "outputs": [
    {
     "name": "stdout",
     "output_type": "stream",
     "text": [
      "Oldest date in dataset:  2010-12-01\n",
      "Mosr recent date in dataset:  2011-12-09\n"
     ]
    }
   ],
   "source": [
    "print('Oldest date in dataset: ', min(retail['Date']))\n",
    "print('Mosr recent date in dataset: ', max(retail['Date']))"
   ]
  },
  {
   "cell_type": "code",
   "execution_count": 11,
   "id": "b3bafb86",
   "metadata": {},
   "outputs": [],
   "source": [
    "# Drop the row from the year 2010\n",
    "index_names = retail[retail['Year'] == 2010].index\n",
    "retail.drop(index_names, inplace = True)\n",
    "retail.drop('Year', axis=1, inplace=True)"
   ]
  },
  {
   "cell_type": "markdown",
   "id": "3be7bea0",
   "metadata": {},
   "source": [
    "##### 3.2.3 Sales Revenue"
   ]
  },
  {
   "cell_type": "code",
   "execution_count": 12,
   "id": "50653c6c",
   "metadata": {},
   "outputs": [],
   "source": [
    "retail['Sales Revenue'] = retail['UnitPrice'] * retail['Quantity']\n",
    "# Check if Sales Revenue is negative\n",
    "index_names = retail[retail['Sales Revenue'] <= 0].index\n",
    "retail.drop(index_names, inplace = True)\n",
    "retail.drop_duplicates(inplace = True)"
   ]
  },
  {
   "cell_type": "markdown",
   "id": "0ce61f6e",
   "metadata": {},
   "source": [
    "##### 3.2.4 Country"
   ]
  },
  {
   "cell_type": "code",
   "execution_count": 13,
   "id": "f7ee7f14",
   "metadata": {},
   "outputs": [
    {
     "name": "stdout",
     "output_type": "stream",
     "text": [
      "['United Kingdom' 'Sweden' 'France' 'Australia' 'Germany' 'Spain'\n",
      " 'Portugal' 'EIRE' 'Israel' 'Cyprus' 'Belgium' 'Italy' 'Netherlands'\n",
      " 'Poland' 'Switzerland' 'Finland' 'Greece' 'Hong Kong' 'Singapore'\n",
      " 'Iceland' 'Channel Islands' 'Lebanon' 'Austria' 'Norway' 'Japan'\n",
      " 'United Arab Emirates' 'Denmark' 'Saudi Arabia' 'Czech Republic' 'Canada'\n",
      " 'Unspecified' 'Brazil' 'USA' 'European Community' 'Bahrain' 'Malta' 'RSA']\n"
     ]
    }
   ],
   "source": [
    "print(retail['Country'].unique())"
   ]
  },
  {
   "cell_type": "code",
   "execution_count": 14,
   "id": "765db016",
   "metadata": {},
   "outputs": [],
   "source": [
    "# Drop rows with country == \"Unspecified\"\n",
    "retail.drop(retail[retail[\"Country\"] == \"Unspecified\"].index, inplace = True)"
   ]
  },
  {
   "cell_type": "markdown",
   "id": "ac99010a",
   "metadata": {},
   "source": [
    "##### 3.2.5 Quantity"
   ]
  },
  {
   "cell_type": "code",
   "execution_count": 15,
   "id": "842cb9f4",
   "metadata": {},
   "outputs": [],
   "source": [
    "# Quantity should be > 0\n",
    "index_names = retail[retail['Quantity'] <= 0].index\n",
    "retail.drop(index_names, inplace = True)"
   ]
  },
  {
   "cell_type": "markdown",
   "id": "f3a42d0f",
   "metadata": {},
   "source": [
    "##### 3.2.6 Description"
   ]
  },
  {
   "cell_type": "code",
   "execution_count": 16,
   "id": "55fc2fc1",
   "metadata": {},
   "outputs": [
    {
     "name": "stdout",
     "output_type": "stream",
     "text": [
      "['JUMBO BAG PINK POLKADOT' 'BLUE POLKADOT WRAP' 'RED RETROSPOT WRAP ' ...\n",
      " 'LETTER \"U\" BLING KEY RING' 'CREAM HANGING HEART T-LIGHT HOLDER'\n",
      " 'PAPER CRAFT , LITTLE BIRDIE']\n"
     ]
    }
   ],
   "source": [
    "print(retail['Description'].unique())"
   ]
  },
  {
   "cell_type": "code",
   "execution_count": 17,
   "id": "58816396",
   "metadata": {},
   "outputs": [
    {
     "data": {
      "text/html": [
       "<div>\n",
       "<style scoped>\n",
       "    .dataframe tbody tr th:only-of-type {\n",
       "        vertical-align: middle;\n",
       "    }\n",
       "\n",
       "    .dataframe tbody tr th {\n",
       "        vertical-align: top;\n",
       "    }\n",
       "\n",
       "    .dataframe thead th {\n",
       "        text-align: right;\n",
       "    }\n",
       "</style>\n",
       "<table border=\"1\" class=\"dataframe\">\n",
       "  <thead>\n",
       "    <tr style=\"text-align: right;\">\n",
       "      <th></th>\n",
       "      <th>InvoiceNo</th>\n",
       "      <th>StockCode</th>\n",
       "      <th>Description</th>\n",
       "      <th>Quantity</th>\n",
       "      <th>InvoiceDate</th>\n",
       "      <th>UnitPrice</th>\n",
       "      <th>CustomerID</th>\n",
       "      <th>Country</th>\n",
       "      <th>Date</th>\n",
       "      <th>Time</th>\n",
       "      <th>Hour</th>\n",
       "      <th>Time of Day</th>\n",
       "      <th>Month</th>\n",
       "      <th>Week of the Year</th>\n",
       "      <th>Day of Week</th>\n",
       "      <th>Sales Revenue</th>\n",
       "    </tr>\n",
       "  </thead>\n",
       "  <tbody>\n",
       "    <tr>\n",
       "      <th>42481</th>\n",
       "      <td>539993</td>\n",
       "      <td>22386</td>\n",
       "      <td>JUMBO BAG PINK POLKADOT</td>\n",
       "      <td>10</td>\n",
       "      <td>2011-01-04 10:00:00</td>\n",
       "      <td>1.95</td>\n",
       "      <td>13313</td>\n",
       "      <td>United Kingdom</td>\n",
       "      <td>2011-01-04</td>\n",
       "      <td>10:00:00</td>\n",
       "      <td>10</td>\n",
       "      <td>Morning</td>\n",
       "      <td>January</td>\n",
       "      <td>1</td>\n",
       "      <td>Tuesday</td>\n",
       "      <td>19.5</td>\n",
       "    </tr>\n",
       "    <tr>\n",
       "      <th>42482</th>\n",
       "      <td>539993</td>\n",
       "      <td>21499</td>\n",
       "      <td>BLUE POLKADOT WRAP</td>\n",
       "      <td>25</td>\n",
       "      <td>2011-01-04 10:00:00</td>\n",
       "      <td>0.42</td>\n",
       "      <td>13313</td>\n",
       "      <td>United Kingdom</td>\n",
       "      <td>2011-01-04</td>\n",
       "      <td>10:00:00</td>\n",
       "      <td>10</td>\n",
       "      <td>Morning</td>\n",
       "      <td>January</td>\n",
       "      <td>1</td>\n",
       "      <td>Tuesday</td>\n",
       "      <td>10.5</td>\n",
       "    </tr>\n",
       "    <tr>\n",
       "      <th>42483</th>\n",
       "      <td>539993</td>\n",
       "      <td>21498</td>\n",
       "      <td>RED RETROSPOT WRAP</td>\n",
       "      <td>25</td>\n",
       "      <td>2011-01-04 10:00:00</td>\n",
       "      <td>0.42</td>\n",
       "      <td>13313</td>\n",
       "      <td>United Kingdom</td>\n",
       "      <td>2011-01-04</td>\n",
       "      <td>10:00:00</td>\n",
       "      <td>10</td>\n",
       "      <td>Morning</td>\n",
       "      <td>January</td>\n",
       "      <td>1</td>\n",
       "      <td>Tuesday</td>\n",
       "      <td>10.5</td>\n",
       "    </tr>\n",
       "    <tr>\n",
       "      <th>42484</th>\n",
       "      <td>539993</td>\n",
       "      <td>22379</td>\n",
       "      <td>RECYCLING BAG RETROSPOT</td>\n",
       "      <td>5</td>\n",
       "      <td>2011-01-04 10:00:00</td>\n",
       "      <td>2.10</td>\n",
       "      <td>13313</td>\n",
       "      <td>United Kingdom</td>\n",
       "      <td>2011-01-04</td>\n",
       "      <td>10:00:00</td>\n",
       "      <td>10</td>\n",
       "      <td>Morning</td>\n",
       "      <td>January</td>\n",
       "      <td>1</td>\n",
       "      <td>Tuesday</td>\n",
       "      <td>10.5</td>\n",
       "    </tr>\n",
       "    <tr>\n",
       "      <th>42485</th>\n",
       "      <td>539993</td>\n",
       "      <td>20718</td>\n",
       "      <td>RED RETROSPOT SHOPPER BAG</td>\n",
       "      <td>10</td>\n",
       "      <td>2011-01-04 10:00:00</td>\n",
       "      <td>1.25</td>\n",
       "      <td>13313</td>\n",
       "      <td>United Kingdom</td>\n",
       "      <td>2011-01-04</td>\n",
       "      <td>10:00:00</td>\n",
       "      <td>10</td>\n",
       "      <td>Morning</td>\n",
       "      <td>January</td>\n",
       "      <td>1</td>\n",
       "      <td>Tuesday</td>\n",
       "      <td>12.5</td>\n",
       "    </tr>\n",
       "  </tbody>\n",
       "</table>\n",
       "</div>"
      ],
      "text/plain": [
       "      InvoiceNo StockCode                Description  Quantity  \\\n",
       "42481    539993     22386    JUMBO BAG PINK POLKADOT        10   \n",
       "42482    539993     21499         BLUE POLKADOT WRAP        25   \n",
       "42483    539993     21498        RED RETROSPOT WRAP         25   \n",
       "42484    539993     22379   RECYCLING BAG RETROSPOT          5   \n",
       "42485    539993     20718  RED RETROSPOT SHOPPER BAG        10   \n",
       "\n",
       "              InvoiceDate  UnitPrice CustomerID         Country        Date  \\\n",
       "42481 2011-01-04 10:00:00       1.95      13313  United Kingdom  2011-01-04   \n",
       "42482 2011-01-04 10:00:00       0.42      13313  United Kingdom  2011-01-04   \n",
       "42483 2011-01-04 10:00:00       0.42      13313  United Kingdom  2011-01-04   \n",
       "42484 2011-01-04 10:00:00       2.10      13313  United Kingdom  2011-01-04   \n",
       "42485 2011-01-04 10:00:00       1.25      13313  United Kingdom  2011-01-04   \n",
       "\n",
       "           Time Hour Time of Day    Month  Week of the Year Day of Week  \\\n",
       "42481  10:00:00   10     Morning  January                 1     Tuesday   \n",
       "42482  10:00:00   10     Morning  January                 1     Tuesday   \n",
       "42483  10:00:00   10     Morning  January                 1     Tuesday   \n",
       "42484  10:00:00   10     Morning  January                 1     Tuesday   \n",
       "42485  10:00:00   10     Morning  January                 1     Tuesday   \n",
       "\n",
       "       Sales Revenue  \n",
       "42481           19.5  \n",
       "42482           10.5  \n",
       "42483           10.5  \n",
       "42484           10.5  \n",
       "42485           12.5  "
      ]
     },
     "execution_count": 17,
     "metadata": {},
     "output_type": "execute_result"
    }
   ],
   "source": [
    "retail.head()"
   ]
  },
  {
   "cell_type": "code",
   "execution_count": 18,
   "id": "599c4180",
   "metadata": {},
   "outputs": [],
   "source": [
    "# Drop NaNs\n",
    "retail.dropna(subset=['Description'], inplace=True) "
   ]
  },
  {
   "cell_type": "code",
   "execution_count": 19,
   "id": "2bef7d03",
   "metadata": {},
   "outputs": [],
   "source": [
    "# Drop rows with description <= 8 words\n",
    "retail.drop(retail[retail['Description'].str.len() <= 8].index, inplace = True)\n",
    "retail['Description'] = retail['Description'].str.strip()\n",
    "retail.reset_index(drop=True, inplace=True)"
   ]
  },
  {
   "cell_type": "markdown",
   "id": "688d1fa7",
   "metadata": {},
   "source": [
    "##### After cleaning and feature engineering:"
   ]
  },
  {
   "cell_type": "code",
   "execution_count": 20,
   "id": "b24ac14e",
   "metadata": {},
   "outputs": [
    {
     "name": "stdout",
     "output_type": "stream",
     "text": [
      "Number of observations after data cleaning:  481966\n",
      "Number of features after data cleaning:  16\n"
     ]
    }
   ],
   "source": [
    "print('Number of observations after data cleaning: ', retail.shape[0])\n",
    "print('Number of features after data cleaning: ', retail.shape[1])"
   ]
  },
  {
   "cell_type": "code",
   "execution_count": 21,
   "id": "28da3cfe",
   "metadata": {},
   "outputs": [
    {
     "data": {
      "text/plain": [
       "Index(['InvoiceNo', 'StockCode', 'Description', 'Quantity', 'InvoiceDate',\n",
       "       'UnitPrice', 'CustomerID', 'Country', 'Date', 'Time', 'Hour',\n",
       "       'Time of Day', 'Month', 'Week of the Year', 'Day of Week',\n",
       "       'Sales Revenue'],\n",
       "      dtype='object')"
      ]
     },
     "execution_count": 21,
     "metadata": {},
     "output_type": "execute_result"
    }
   ],
   "source": [
    "retail.columns"
   ]
  },
  {
   "cell_type": "code",
   "execution_count": 22,
   "id": "05d566f1",
   "metadata": {},
   "outputs": [
    {
     "name": "stdout",
     "output_type": "stream",
     "text": [
      "<class 'pandas.core.frame.DataFrame'>\n",
      "RangeIndex: 481966 entries, 0 to 481965\n",
      "Data columns (total 16 columns):\n",
      " #   Column            Non-Null Count   Dtype         \n",
      "---  ------            --------------   -----         \n",
      " 0   InvoiceNo         481966 non-null  object        \n",
      " 1   StockCode         481966 non-null  object        \n",
      " 2   Description       481966 non-null  object        \n",
      " 3   Quantity          481966 non-null  int64         \n",
      " 4   InvoiceDate       481966 non-null  datetime64[ns]\n",
      " 5   UnitPrice         481966 non-null  float64       \n",
      " 6   CustomerID        481966 non-null  object        \n",
      " 7   Country           481966 non-null  object        \n",
      " 8   Date              481966 non-null  object        \n",
      " 9   Time              481966 non-null  object        \n",
      " 10  Hour              481966 non-null  object        \n",
      " 11  Time of Day       481966 non-null  category      \n",
      " 12  Month             481966 non-null  object        \n",
      " 13  Week of the Year  481966 non-null  UInt32        \n",
      " 14  Day of Week       481966 non-null  object        \n",
      " 15  Sales Revenue     481966 non-null  float64       \n",
      "dtypes: UInt32(1), category(1), datetime64[ns](1), float64(2), int64(1), object(10)\n",
      "memory usage: 54.2+ MB\n"
     ]
    }
   ],
   "source": [
    "# New dataframe\n",
    "retail.info()"
   ]
  },
  {
   "cell_type": "code",
   "execution_count": 23,
   "id": "3b8be039",
   "metadata": {},
   "outputs": [],
   "source": [
    "# Save cleaned dataset for next steps\n",
    "retail.to_csv('CleanRetailData.csv')"
   ]
  },
  {
   "cell_type": "code",
   "execution_count": null,
   "id": "6af8202a",
   "metadata": {},
   "outputs": [],
   "source": []
  }
 ],
 "metadata": {
  "kernelspec": {
   "display_name": "Python 3 (ipykernel)",
   "language": "python",
   "name": "python3"
  },
  "language_info": {
   "codemirror_mode": {
    "name": "ipython",
    "version": 3
   },
   "file_extension": ".py",
   "mimetype": "text/x-python",
   "name": "python",
   "nbconvert_exporter": "python",
   "pygments_lexer": "ipython3",
   "version": "3.8.8"
  }
 },
 "nbformat": 4,
 "nbformat_minor": 5
}
